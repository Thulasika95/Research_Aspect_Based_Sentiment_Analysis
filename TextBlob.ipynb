{
 "cells": [
  {
   "cell_type": "code",
   "execution_count": 1,
   "metadata": {},
   "outputs": [],
   "source": [
    "import pandas as pd\n",
    "import numpy as np"
   ]
  },
  {
   "cell_type": "code",
   "execution_count": 2,
   "metadata": {},
   "outputs": [
    {
     "name": "stdout",
     "output_type": "stream",
     "text": [
      "Loaded 59255 reviews.\n"
     ]
    }
   ],
   "source": [
    "import pandas as pd\n",
    "import numpy as np\n",
    "reviewsDF = pd.read_csv('DatasetFinal.csv')\n",
    "reviewsDF['Brand Name'] = reviewsDF['Brand Name'].str.lower()\n",
    "reviews = reviewsDF.Reviews.tolist()\n",
    "brands = reviewsDF['Brand Name'].tolist()\n",
    "ratings = reviewsDF['Rating'].tolist()\n",
    "print(\"Loaded \" + str(len(reviews)) + \" reviews.\")"
   ]
  },
  {
   "cell_type": "code",
   "execution_count": 3,
   "metadata": {},
   "outputs": [
    {
     "data": {
      "text/html": [
       "<div>\n",
       "<style scoped>\n",
       "    .dataframe tbody tr th:only-of-type {\n",
       "        vertical-align: middle;\n",
       "    }\n",
       "\n",
       "    .dataframe tbody tr th {\n",
       "        vertical-align: top;\n",
       "    }\n",
       "\n",
       "    .dataframe thead th {\n",
       "        text-align: right;\n",
       "    }\n",
       "</style>\n",
       "<table border=\"1\" class=\"dataframe\">\n",
       "  <thead>\n",
       "    <tr style=\"text-align: right;\">\n",
       "      <th></th>\n",
       "      <th>Product Name</th>\n",
       "      <th>Brand Name</th>\n",
       "      <th>Rating</th>\n",
       "      <th>Reviews</th>\n",
       "      <th>Reviews_Votes</th>\n",
       "    </tr>\n",
       "  </thead>\n",
       "  <tbody>\n",
       "    <tr>\n",
       "      <th>0</th>\n",
       "      <td>Samsung Electronics Galaxy Note 20 Ultra 5G Fa...</td>\n",
       "      <td>samsung</td>\n",
       "      <td>1</td>\n",
       "      <td>Received a used phone . Very disappointed!!</td>\n",
       "      <td>2</td>\n",
       "    </tr>\n",
       "    <tr>\n",
       "      <th>1</th>\n",
       "      <td>Samsung Electronics Galaxy Note 20 Ultra 5G Fa...</td>\n",
       "      <td>samsung</td>\n",
       "      <td>4</td>\n",
       "      <td>Update 8/31/20 IF YOU DIDN'T RECEIVE YOUR WIRE...</td>\n",
       "      <td>188</td>\n",
       "    </tr>\n",
       "    <tr>\n",
       "      <th>2</th>\n",
       "      <td>Samsung Electronics Galaxy Note 20 Ultra 5G Fa...</td>\n",
       "      <td>samsung</td>\n",
       "      <td>5</td>\n",
       "      <td>Great phone and food quality. I was able to us...</td>\n",
       "      <td>0</td>\n",
       "    </tr>\n",
       "    <tr>\n",
       "      <th>3</th>\n",
       "      <td>Samsung Electronics Galaxy Note 20 Ultra 5G Fa...</td>\n",
       "      <td>samsung</td>\n",
       "      <td>5</td>\n",
       "      <td>La pantalla se ve impresionante, se escucha me...</td>\n",
       "      <td>30</td>\n",
       "    </tr>\n",
       "    <tr>\n",
       "      <th>4</th>\n",
       "      <td>Samsung Electronics Galaxy Note 20 Ultra 5G Fa...</td>\n",
       "      <td>samsung</td>\n",
       "      <td>1</td>\n",
       "      <td>It came today. When opened the box, there was ...</td>\n",
       "      <td>1</td>\n",
       "    </tr>\n",
       "  </tbody>\n",
       "</table>\n",
       "</div>"
      ],
      "text/plain": [
       "                                        Product Name Brand Name  Rating  \\\n",
       "0  Samsung Electronics Galaxy Note 20 Ultra 5G Fa...    samsung       1   \n",
       "1  Samsung Electronics Galaxy Note 20 Ultra 5G Fa...    samsung       4   \n",
       "2  Samsung Electronics Galaxy Note 20 Ultra 5G Fa...    samsung       5   \n",
       "3  Samsung Electronics Galaxy Note 20 Ultra 5G Fa...    samsung       5   \n",
       "4  Samsung Electronics Galaxy Note 20 Ultra 5G Fa...    samsung       1   \n",
       "\n",
       "                                             Reviews  Reviews_Votes  \n",
       "0        Received a used phone . Very disappointed!!              2  \n",
       "1  Update 8/31/20 IF YOU DIDN'T RECEIVE YOUR WIRE...            188  \n",
       "2  Great phone and food quality. I was able to us...              0  \n",
       "3  La pantalla se ve impresionante, se escucha me...             30  \n",
       "4  It came today. When opened the box, there was ...              1  "
      ]
     },
     "execution_count": 3,
     "metadata": {},
     "output_type": "execute_result"
    }
   ],
   "source": [
    "reviewsDF.head()"
   ]
  },
  {
   "cell_type": "code",
   "execution_count": 4,
   "metadata": {},
   "outputs": [],
   "source": [
    "import nltk\n",
    "def get_all_phrases_containing_tar_wrd(target_word, tar_passage, left_margin = 5, right_margin = 5):\n",
    "    \"\"\"\n",
    "        Function to get all the pharses that contain the target word in a text/passage tar_passage.\n",
    "        Workaround to save the output given by nltk Concordance function\n",
    "        \n",
    "        str target_word --> aspect to be searched for\n",
    "        str tar_passage  --> sentence extracted from a customer review\n",
    "        int left_margin int right_margin --> left_margin and right_margin allocate the number of words/punctuation before and after target word\n",
    "        Left margin will take note of the beginning of the text\n",
    "    \"\"\"\n",
    "     \n",
    "   \n",
    "    tokens = nltk.word_tokenize(tar_passage)\n",
    "    tokens = [x for x in tokens if len(x)>2] \n",
    " \n",
    "    text = nltk.Text(tokens)\n",
    " \n",
    " \n",
    "    c = nltk.ConcordanceIndex(text.tokens, key = lambda s: s.lower())\n",
    " \n",
    "\n",
    "    \n",
    "    concordance_txt = ([text.tokens[  list(map(lambda x: x-5 if (x-left_margin)>0 else 0,[offset]))[0]:offset+right_margin] for offset in c.offsets(target_word)])\n",
    "\n",
    " \n",
    "    return [''.join([x+' ' for x in con_sub]) for con_sub in concordance_txt]"
   ]
  },
  {
   "cell_type": "code",
   "execution_count": 5,
   "metadata": {},
   "outputs": [],
   "source": [
    "def cleanText(raw_text, remove_stopwords=False, stemming=False, split_text=False):\n",
    "    '''\n",
    "    Convert a raw review to a cleaned review\n",
    "    '''\n",
    "    text = BeautifulSoup(raw_text, 'lxml').get_text()  #remove html\n",
    "    letters_only = re.sub(\"[^a-zA-Z]\", \" \", text)  # remove non-character\n",
    "    words = letters_only.lower().split() # convert to lower case \n",
    "    \n",
    "    if remove_stopwords: # remove stopword\n",
    "        stops = set(stopwords.words(\"english\"))\n",
    "        words = [w for w in words if not w in stops]\n",
    "        \n",
    "    if stemming==True: # stemming\n",
    "#         stemmer = PorterStemmer()\n",
    "        stemmer = SnowballStemmer('english') \n",
    "        words = [stemmer.stem(w) for w in words]\n",
    "        \n",
    "    if split_text==True:  # split text\n",
    "        return (words)\n",
    "    \n",
    "    return( \" \".join(words))"
   ]
  },
  {
   "cell_type": "code",
   "execution_count": 6,
   "metadata": {},
   "outputs": [
    {
     "name": "stdout",
     "output_type": "stream",
     "text": [
      "Extracted 22131 phrases from the reviews\n"
     ]
    },
    {
     "data": {
      "text/html": [
       "<div>\n",
       "<style scoped>\n",
       "    .dataframe tbody tr th:only-of-type {\n",
       "        vertical-align: middle;\n",
       "    }\n",
       "\n",
       "    .dataframe tbody tr th {\n",
       "        vertical-align: top;\n",
       "    }\n",
       "\n",
       "    .dataframe thead th {\n",
       "        text-align: right;\n",
       "    }\n",
       "</style>\n",
       "<table border=\"1\" class=\"dataframe\">\n",
       "  <thead>\n",
       "    <tr style=\"text-align: right;\">\n",
       "      <th></th>\n",
       "      <th>brand</th>\n",
       "      <th>phrase</th>\n",
       "      <th>rating</th>\n",
       "      <th>aspect</th>\n",
       "      <th>review_id</th>\n",
       "    </tr>\n",
       "  </thead>\n",
       "  <tbody>\n",
       "    <tr>\n",
       "      <th>0</th>\n",
       "      <td>samsung</td>\n",
       "      <td>even the note but this screen here bests all t...</td>\n",
       "      <td>4</td>\n",
       "      <td>screen</td>\n",
       "      <td>1</td>\n",
       "    </tr>\n",
       "    <tr>\n",
       "      <th>1</th>\n",
       "      <td>samsung</td>\n",
       "      <td>all this makes for outstanding screen</td>\n",
       "      <td>4</td>\n",
       "      <td>screen</td>\n",
       "      <td>1</td>\n",
       "    </tr>\n",
       "    <tr>\n",
       "      <th>2</th>\n",
       "      <td>samsung</td>\n",
       "      <td>Great main camera</td>\n",
       "      <td>4</td>\n",
       "      <td>camera</td>\n",
       "      <td>1</td>\n",
       "    </tr>\n",
       "    <tr>\n",
       "      <th>3</th>\n",
       "      <td>samsung</td>\n",
       "      <td>result but all all the camera top notch all its</td>\n",
       "      <td>4</td>\n",
       "      <td>camera</td>\n",
       "      <td>1</td>\n",
       "    </tr>\n",
       "    <tr>\n",
       "      <th>4</th>\n",
       "      <td>samsung</td>\n",
       "      <td>find phone with better main camera the market</td>\n",
       "      <td>4</td>\n",
       "      <td>camera</td>\n",
       "      <td>1</td>\n",
       "    </tr>\n",
       "  </tbody>\n",
       "</table>\n",
       "</div>"
      ],
      "text/plain": [
       "     brand                                             phrase  rating  aspect  \\\n",
       "0  samsung  even the note but this screen here bests all t...       4  screen   \n",
       "1  samsung             all this makes for outstanding screen        4  screen   \n",
       "2  samsung                                 Great main camera        4  camera   \n",
       "3  samsung   result but all all the camera top notch all its        4  camera   \n",
       "4  samsung     find phone with better main camera the market        4  camera   \n",
       "\n",
       "   review_id  \n",
       "0          1  \n",
       "1          1  \n",
       "2          1  \n",
       "3          1  \n",
       "4          1  "
      ]
     },
     "execution_count": 6,
     "metadata": {},
     "output_type": "execute_result"
    }
   ],
   "source": [
    "from nltk import sent_tokenize\n",
    "\n",
    "\n",
    "relevant_aspects = ['battery', 'screen', 'camera', 'performance']\n",
    "\n",
    "\n",
    "phrases = []\n",
    "brand = []\n",
    "rating = []\n",
    "aspects = []\n",
    "review_num = []\n",
    "counter = 0\n",
    "\n",
    "for review in reviews:\n",
    "    try:\n",
    "       \n",
    "        for sentence in sent_tokenize(review):\n",
    "            for  important_word in relevant_aspects:\n",
    "               \n",
    "                phrases_in_sentence = get_all_phrases_containing_tar_wrd(important_word, sentence, left_margin = 5, right_margin = 5) \n",
    "                for phrase in phrases_in_sentence:\n",
    "                    brand.append(brands[counter])\n",
    "                    rating.append(ratings[counter])\n",
    "                    aspect = 'other'\n",
    "                    for imp_word in relevant_aspects:\n",
    "                        if imp_word in phrase.lower():\n",
    "                            aspect = imp_word\n",
    "                    aspects.append(aspect)\n",
    "                    phrases.append(phrase)\n",
    "                    review_num.append(counter)\n",
    "    except:\n",
    "        pass\n",
    "    counter = counter + 1\n",
    "\n",
    "print('Extracted ' + str(len(phrases)) + ' phrases from the reviews')\n",
    "\n",
    "\n",
    "phrasesDF = pd.DataFrame()\n",
    "phrasesDF['brand'] = brand \n",
    "phrasesDF['phrase'] = phrases\n",
    "phrasesDF['rating'] = rating\n",
    "phrasesDF['aspect'] = aspects\n",
    "phrasesDF['review_id'] = review_num\n",
    "phrasesDF.head()"
   ]
  },
  {
   "cell_type": "code",
   "execution_count": 7,
   "metadata": {},
   "outputs": [],
   "source": [
    "from textblob import TextBlob\n",
    "from textblob import Blobber"
   ]
  },
  {
   "cell_type": "code",
   "execution_count": 8,
   "metadata": {},
   "outputs": [],
   "source": [
    "def detect_polarity(reviewsDF):\n",
    "    return TextBlob(reviewsDF).sentiment.polarity"
   ]
  },
  {
   "cell_type": "code",
   "execution_count": 9,
   "metadata": {},
   "outputs": [],
   "source": [
    "df_tb = phrasesDF.phrase.apply(detect_polarity)"
   ]
  },
  {
   "cell_type": "code",
   "execution_count": 10,
   "metadata": {},
   "outputs": [
    {
     "data": {
      "text/plain": [
       "0    0.000000\n",
       "1    0.500000\n",
       "2    0.483333\n",
       "3    0.500000\n",
       "4    0.333333\n",
       "Name: phrase, dtype: float64"
      ]
     },
     "execution_count": 10,
     "metadata": {},
     "output_type": "execute_result"
    }
   ],
   "source": [
    "df_tb.head()"
   ]
  },
  {
   "cell_type": "code",
   "execution_count": 11,
   "metadata": {},
   "outputs": [
    {
     "name": "stdout",
     "output_type": "stream",
     "text": [
      "There are 22131 rows and 5 columns\n"
     ]
    }
   ],
   "source": [
    "nRow, nCol = phrasesDF.shape\n",
    "print(f'There are {nRow} rows and {nCol} columns')"
   ]
  },
  {
   "cell_type": "code",
   "execution_count": 12,
   "metadata": {},
   "outputs": [],
   "source": [
    "phrasesDF[\"text_sentiment\"] = phrasesDF.phrase.apply(detect_polarity)"
   ]
  },
  {
   "cell_type": "code",
   "execution_count": 13,
   "metadata": {},
   "outputs": [
    {
     "data": {
      "text/html": [
       "<div>\n",
       "<style scoped>\n",
       "    .dataframe tbody tr th:only-of-type {\n",
       "        vertical-align: middle;\n",
       "    }\n",
       "\n",
       "    .dataframe tbody tr th {\n",
       "        vertical-align: top;\n",
       "    }\n",
       "\n",
       "    .dataframe thead th {\n",
       "        text-align: right;\n",
       "    }\n",
       "</style>\n",
       "<table border=\"1\" class=\"dataframe\">\n",
       "  <thead>\n",
       "    <tr style=\"text-align: right;\">\n",
       "      <th></th>\n",
       "      <th>brand</th>\n",
       "      <th>phrase</th>\n",
       "      <th>rating</th>\n",
       "      <th>aspect</th>\n",
       "      <th>review_id</th>\n",
       "      <th>text_sentiment</th>\n",
       "    </tr>\n",
       "  </thead>\n",
       "  <tbody>\n",
       "    <tr>\n",
       "      <th>0</th>\n",
       "      <td>samsung</td>\n",
       "      <td>even the note but this screen here bests all t...</td>\n",
       "      <td>4</td>\n",
       "      <td>screen</td>\n",
       "      <td>1</td>\n",
       "      <td>0.000000</td>\n",
       "    </tr>\n",
       "    <tr>\n",
       "      <th>1</th>\n",
       "      <td>samsung</td>\n",
       "      <td>all this makes for outstanding screen</td>\n",
       "      <td>4</td>\n",
       "      <td>screen</td>\n",
       "      <td>1</td>\n",
       "      <td>0.500000</td>\n",
       "    </tr>\n",
       "    <tr>\n",
       "      <th>2</th>\n",
       "      <td>samsung</td>\n",
       "      <td>Great main camera</td>\n",
       "      <td>4</td>\n",
       "      <td>camera</td>\n",
       "      <td>1</td>\n",
       "      <td>0.483333</td>\n",
       "    </tr>\n",
       "    <tr>\n",
       "      <th>3</th>\n",
       "      <td>samsung</td>\n",
       "      <td>result but all all the camera top notch all its</td>\n",
       "      <td>4</td>\n",
       "      <td>camera</td>\n",
       "      <td>1</td>\n",
       "      <td>0.500000</td>\n",
       "    </tr>\n",
       "    <tr>\n",
       "      <th>4</th>\n",
       "      <td>samsung</td>\n",
       "      <td>find phone with better main camera the market</td>\n",
       "      <td>4</td>\n",
       "      <td>camera</td>\n",
       "      <td>1</td>\n",
       "      <td>0.333333</td>\n",
       "    </tr>\n",
       "  </tbody>\n",
       "</table>\n",
       "</div>"
      ],
      "text/plain": [
       "     brand                                             phrase  rating  aspect  \\\n",
       "0  samsung  even the note but this screen here bests all t...       4  screen   \n",
       "1  samsung             all this makes for outstanding screen        4  screen   \n",
       "2  samsung                                 Great main camera        4  camera   \n",
       "3  samsung   result but all all the camera top notch all its        4  camera   \n",
       "4  samsung     find phone with better main camera the market        4  camera   \n",
       "\n",
       "   review_id  text_sentiment  \n",
       "0          1        0.000000  \n",
       "1          1        0.500000  \n",
       "2          1        0.483333  \n",
       "3          1        0.500000  \n",
       "4          1        0.333333  "
      ]
     },
     "execution_count": 13,
     "metadata": {},
     "output_type": "execute_result"
    }
   ],
   "source": [
    "phrasesDF.head()"
   ]
  },
  {
   "cell_type": "code",
   "execution_count": 14,
   "metadata": {},
   "outputs": [],
   "source": [
    "def detect_subjectivity(reviewsDF):\n",
    "    return TextBlob(reviewsDF).sentiment.subjectivity"
   ]
  },
  {
   "cell_type": "code",
   "execution_count": 15,
   "metadata": {},
   "outputs": [],
   "source": [
    "phrasesDF[\"text_subjectivity\"] = phrasesDF.phrase.apply(detect_subjectivity)"
   ]
  },
  {
   "cell_type": "code",
   "execution_count": 16,
   "metadata": {},
   "outputs": [
    {
     "data": {
      "text/html": [
       "<div>\n",
       "<style scoped>\n",
       "    .dataframe tbody tr th:only-of-type {\n",
       "        vertical-align: middle;\n",
       "    }\n",
       "\n",
       "    .dataframe tbody tr th {\n",
       "        vertical-align: top;\n",
       "    }\n",
       "\n",
       "    .dataframe thead th {\n",
       "        text-align: right;\n",
       "    }\n",
       "</style>\n",
       "<table border=\"1\" class=\"dataframe\">\n",
       "  <thead>\n",
       "    <tr style=\"text-align: right;\">\n",
       "      <th></th>\n",
       "      <th>brand</th>\n",
       "      <th>phrase</th>\n",
       "      <th>rating</th>\n",
       "      <th>aspect</th>\n",
       "      <th>review_id</th>\n",
       "      <th>text_sentiment</th>\n",
       "      <th>text_subjectivity</th>\n",
       "    </tr>\n",
       "  </thead>\n",
       "  <tbody>\n",
       "    <tr>\n",
       "      <th>0</th>\n",
       "      <td>samsung</td>\n",
       "      <td>even the note but this screen here bests all t...</td>\n",
       "      <td>4</td>\n",
       "      <td>screen</td>\n",
       "      <td>1</td>\n",
       "      <td>0.000000</td>\n",
       "      <td>0.000000</td>\n",
       "    </tr>\n",
       "    <tr>\n",
       "      <th>1</th>\n",
       "      <td>samsung</td>\n",
       "      <td>all this makes for outstanding screen</td>\n",
       "      <td>4</td>\n",
       "      <td>screen</td>\n",
       "      <td>1</td>\n",
       "      <td>0.500000</td>\n",
       "      <td>0.875000</td>\n",
       "    </tr>\n",
       "    <tr>\n",
       "      <th>2</th>\n",
       "      <td>samsung</td>\n",
       "      <td>Great main camera</td>\n",
       "      <td>4</td>\n",
       "      <td>camera</td>\n",
       "      <td>1</td>\n",
       "      <td>0.483333</td>\n",
       "      <td>0.541667</td>\n",
       "    </tr>\n",
       "    <tr>\n",
       "      <th>3</th>\n",
       "      <td>samsung</td>\n",
       "      <td>result but all all the camera top notch all its</td>\n",
       "      <td>4</td>\n",
       "      <td>camera</td>\n",
       "      <td>1</td>\n",
       "      <td>0.500000</td>\n",
       "      <td>0.500000</td>\n",
       "    </tr>\n",
       "    <tr>\n",
       "      <th>4</th>\n",
       "      <td>samsung</td>\n",
       "      <td>find phone with better main camera the market</td>\n",
       "      <td>4</td>\n",
       "      <td>camera</td>\n",
       "      <td>1</td>\n",
       "      <td>0.333333</td>\n",
       "      <td>0.416667</td>\n",
       "    </tr>\n",
       "  </tbody>\n",
       "</table>\n",
       "</div>"
      ],
      "text/plain": [
       "     brand                                             phrase  rating  aspect  \\\n",
       "0  samsung  even the note but this screen here bests all t...       4  screen   \n",
       "1  samsung             all this makes for outstanding screen        4  screen   \n",
       "2  samsung                                 Great main camera        4  camera   \n",
       "3  samsung   result but all all the camera top notch all its        4  camera   \n",
       "4  samsung     find phone with better main camera the market        4  camera   \n",
       "\n",
       "   review_id  text_sentiment  text_subjectivity  \n",
       "0          1        0.000000           0.000000  \n",
       "1          1        0.500000           0.875000  \n",
       "2          1        0.483333           0.541667  \n",
       "3          1        0.500000           0.500000  \n",
       "4          1        0.333333           0.416667  "
      ]
     },
     "execution_count": 16,
     "metadata": {},
     "output_type": "execute_result"
    }
   ],
   "source": [
    "phrasesDF.head()"
   ]
  },
  {
   "cell_type": "code",
   "execution_count": 17,
   "metadata": {},
   "outputs": [],
   "source": [
    "phrasesDF['comp_score'] = phrasesDF['text_sentiment'].apply(lambda c: 'best' if c >=0.75 else ('good' if c >=0.5 else ('better' if c >=0.25 else ('ok' if c >=0 else ('bad' if c <=-0.25 else ('very bad' if c <=-0.5 else ('worst' if c <=-0.75 else 'very worst')))))))"
   ]
  },
  {
   "cell_type": "code",
   "execution_count": 18,
   "metadata": {},
   "outputs": [
    {
     "data": {
      "text/html": [
       "<div>\n",
       "<style scoped>\n",
       "    .dataframe tbody tr th:only-of-type {\n",
       "        vertical-align: middle;\n",
       "    }\n",
       "\n",
       "    .dataframe tbody tr th {\n",
       "        vertical-align: top;\n",
       "    }\n",
       "\n",
       "    .dataframe thead th {\n",
       "        text-align: right;\n",
       "    }\n",
       "</style>\n",
       "<table border=\"1\" class=\"dataframe\">\n",
       "  <thead>\n",
       "    <tr style=\"text-align: right;\">\n",
       "      <th></th>\n",
       "      <th>brand</th>\n",
       "      <th>phrase</th>\n",
       "      <th>rating</th>\n",
       "      <th>aspect</th>\n",
       "      <th>review_id</th>\n",
       "      <th>text_sentiment</th>\n",
       "      <th>text_subjectivity</th>\n",
       "      <th>comp_score</th>\n",
       "    </tr>\n",
       "  </thead>\n",
       "  <tbody>\n",
       "    <tr>\n",
       "      <th>0</th>\n",
       "      <td>samsung</td>\n",
       "      <td>even the note but this screen here bests all t...</td>\n",
       "      <td>4</td>\n",
       "      <td>screen</td>\n",
       "      <td>1</td>\n",
       "      <td>0.000000</td>\n",
       "      <td>0.000000</td>\n",
       "      <td>ok</td>\n",
       "    </tr>\n",
       "    <tr>\n",
       "      <th>1</th>\n",
       "      <td>samsung</td>\n",
       "      <td>all this makes for outstanding screen</td>\n",
       "      <td>4</td>\n",
       "      <td>screen</td>\n",
       "      <td>1</td>\n",
       "      <td>0.500000</td>\n",
       "      <td>0.875000</td>\n",
       "      <td>good</td>\n",
       "    </tr>\n",
       "    <tr>\n",
       "      <th>2</th>\n",
       "      <td>samsung</td>\n",
       "      <td>Great main camera</td>\n",
       "      <td>4</td>\n",
       "      <td>camera</td>\n",
       "      <td>1</td>\n",
       "      <td>0.483333</td>\n",
       "      <td>0.541667</td>\n",
       "      <td>better</td>\n",
       "    </tr>\n",
       "    <tr>\n",
       "      <th>3</th>\n",
       "      <td>samsung</td>\n",
       "      <td>result but all all the camera top notch all its</td>\n",
       "      <td>4</td>\n",
       "      <td>camera</td>\n",
       "      <td>1</td>\n",
       "      <td>0.500000</td>\n",
       "      <td>0.500000</td>\n",
       "      <td>good</td>\n",
       "    </tr>\n",
       "    <tr>\n",
       "      <th>4</th>\n",
       "      <td>samsung</td>\n",
       "      <td>find phone with better main camera the market</td>\n",
       "      <td>4</td>\n",
       "      <td>camera</td>\n",
       "      <td>1</td>\n",
       "      <td>0.333333</td>\n",
       "      <td>0.416667</td>\n",
       "      <td>better</td>\n",
       "    </tr>\n",
       "  </tbody>\n",
       "</table>\n",
       "</div>"
      ],
      "text/plain": [
       "     brand                                             phrase  rating  aspect  \\\n",
       "0  samsung  even the note but this screen here bests all t...       4  screen   \n",
       "1  samsung             all this makes for outstanding screen        4  screen   \n",
       "2  samsung                                 Great main camera        4  camera   \n",
       "3  samsung   result but all all the camera top notch all its        4  camera   \n",
       "4  samsung     find phone with better main camera the market        4  camera   \n",
       "\n",
       "   review_id  text_sentiment  text_subjectivity comp_score  \n",
       "0          1        0.000000           0.000000         ok  \n",
       "1          1        0.500000           0.875000       good  \n",
       "2          1        0.483333           0.541667     better  \n",
       "3          1        0.500000           0.500000       good  \n",
       "4          1        0.333333           0.416667     better  "
      ]
     },
     "execution_count": 18,
     "metadata": {},
     "output_type": "execute_result"
    }
   ],
   "source": [
    "phrasesDF.head()"
   ]
  },
  {
   "cell_type": "code",
   "execution_count": 19,
   "metadata": {},
   "outputs": [],
   "source": [
    "phrasesDF['label'] = phrasesDF['comp_score'].apply(lambda c: 4 if c =='best' else (3 if c =='good' else (2 if c =='better' else (1 if c =='ok' else (-1 if c =='bad' else (-2 if c =='very bad' else (-3 if c =='worst' else -4)))))))"
   ]
  },
  {
   "cell_type": "code",
   "execution_count": 20,
   "metadata": {},
   "outputs": [
    {
     "data": {
      "text/html": [
       "<div>\n",
       "<style scoped>\n",
       "    .dataframe tbody tr th:only-of-type {\n",
       "        vertical-align: middle;\n",
       "    }\n",
       "\n",
       "    .dataframe tbody tr th {\n",
       "        vertical-align: top;\n",
       "    }\n",
       "\n",
       "    .dataframe thead th {\n",
       "        text-align: right;\n",
       "    }\n",
       "</style>\n",
       "<table border=\"1\" class=\"dataframe\">\n",
       "  <thead>\n",
       "    <tr style=\"text-align: right;\">\n",
       "      <th></th>\n",
       "      <th>brand</th>\n",
       "      <th>phrase</th>\n",
       "      <th>rating</th>\n",
       "      <th>aspect</th>\n",
       "      <th>review_id</th>\n",
       "      <th>text_sentiment</th>\n",
       "      <th>text_subjectivity</th>\n",
       "      <th>comp_score</th>\n",
       "      <th>label</th>\n",
       "    </tr>\n",
       "  </thead>\n",
       "  <tbody>\n",
       "    <tr>\n",
       "      <th>0</th>\n",
       "      <td>samsung</td>\n",
       "      <td>even the note but this screen here bests all t...</td>\n",
       "      <td>4</td>\n",
       "      <td>screen</td>\n",
       "      <td>1</td>\n",
       "      <td>0.000000</td>\n",
       "      <td>0.000000</td>\n",
       "      <td>ok</td>\n",
       "      <td>1</td>\n",
       "    </tr>\n",
       "    <tr>\n",
       "      <th>1</th>\n",
       "      <td>samsung</td>\n",
       "      <td>all this makes for outstanding screen</td>\n",
       "      <td>4</td>\n",
       "      <td>screen</td>\n",
       "      <td>1</td>\n",
       "      <td>0.500000</td>\n",
       "      <td>0.875000</td>\n",
       "      <td>good</td>\n",
       "      <td>3</td>\n",
       "    </tr>\n",
       "    <tr>\n",
       "      <th>2</th>\n",
       "      <td>samsung</td>\n",
       "      <td>Great main camera</td>\n",
       "      <td>4</td>\n",
       "      <td>camera</td>\n",
       "      <td>1</td>\n",
       "      <td>0.483333</td>\n",
       "      <td>0.541667</td>\n",
       "      <td>better</td>\n",
       "      <td>2</td>\n",
       "    </tr>\n",
       "    <tr>\n",
       "      <th>3</th>\n",
       "      <td>samsung</td>\n",
       "      <td>result but all all the camera top notch all its</td>\n",
       "      <td>4</td>\n",
       "      <td>camera</td>\n",
       "      <td>1</td>\n",
       "      <td>0.500000</td>\n",
       "      <td>0.500000</td>\n",
       "      <td>good</td>\n",
       "      <td>3</td>\n",
       "    </tr>\n",
       "    <tr>\n",
       "      <th>4</th>\n",
       "      <td>samsung</td>\n",
       "      <td>find phone with better main camera the market</td>\n",
       "      <td>4</td>\n",
       "      <td>camera</td>\n",
       "      <td>1</td>\n",
       "      <td>0.333333</td>\n",
       "      <td>0.416667</td>\n",
       "      <td>better</td>\n",
       "      <td>2</td>\n",
       "    </tr>\n",
       "  </tbody>\n",
       "</table>\n",
       "</div>"
      ],
      "text/plain": [
       "     brand                                             phrase  rating  aspect  \\\n",
       "0  samsung  even the note but this screen here bests all t...       4  screen   \n",
       "1  samsung             all this makes for outstanding screen        4  screen   \n",
       "2  samsung                                 Great main camera        4  camera   \n",
       "3  samsung   result but all all the camera top notch all its        4  camera   \n",
       "4  samsung     find phone with better main camera the market        4  camera   \n",
       "\n",
       "   review_id  text_sentiment  text_subjectivity comp_score  label  \n",
       "0          1        0.000000           0.000000         ok      1  \n",
       "1          1        0.500000           0.875000       good      3  \n",
       "2          1        0.483333           0.541667     better      2  \n",
       "3          1        0.500000           0.500000       good      3  \n",
       "4          1        0.333333           0.416667     better      2  "
      ]
     },
     "execution_count": 20,
     "metadata": {},
     "output_type": "execute_result"
    }
   ],
   "source": [
    "phrasesDF.head()"
   ]
  },
  {
   "cell_type": "code",
   "execution_count": 21,
   "metadata": {},
   "outputs": [],
   "source": [
    "def modelEvaluation(predictions, y_test_set):\n",
    "    #Print model evaluation to predicted result \n",
    "    \n",
    "    print (\"\\nAccuracy on validation set: {:.4f}\".format(accuracy_score(y_test_set, predictions)))\n",
    "    #print \"\\nAUC score : {:.4f}\".format(roc_auc_score(y_test_set, predictions))\n",
    "    print (\"\\nClassification report : \\n\", metrics.classification_report(y_test_set, predictions))\n",
    "    print (\"\\nConfusion Matrix : \\n\", metrics.confusion_matrix(y_test_set, predictions))"
   ]
  },
  {
   "cell_type": "markdown",
   "metadata": {},
   "source": [
    "RANDOM FOREST"
   ]
  },
  {
   "cell_type": "code",
   "execution_count": 22,
   "metadata": {},
   "outputs": [],
   "source": [
    "import future\n",
    "import matplotlib.pyplot as plt\n",
    "%matplotlib inline\n",
    "\n",
    "from sklearn.model_selection import train_test_split, GridSearchCV\n",
    "from sklearn.feature_extraction.text import CountVectorizer, TfidfVectorizer\n",
    "from sklearn import metrics\n",
    "from sklearn.metrics import roc_auc_score, accuracy_score\n",
    "from sklearn.preprocessing import label_binarize\n",
    "from sklearn.ensemble import RandomForestClassifier\n",
    "from bs4 import BeautifulSoup  \n",
    "import re\n",
    "import nltk\n",
    "from nltk.corpus import stopwords "
   ]
  },
  {
   "cell_type": "code",
   "execution_count": 23,
   "metadata": {},
   "outputs": [],
   "source": [
    "#split data into training and testing set\n",
    "x_train, x_test, y_train, y_test = train_test_split(phrasesDF['phrase'], phrasesDF['label'], test_size=0.3, random_state=0)\n",
    "    \n",
    "    \n",
    "#If the label are words instead of numbers, they can be replaced programmatically using following two lines\n",
    "#     y_train = label_binarize(y_train, classes=[0, 1, 2])\n",
    "#     y_test = label_binarize(y_test, classes=[0, 1, 2])"
   ]
  },
  {
   "cell_type": "code",
   "execution_count": 24,
   "metadata": {},
   "outputs": [],
   "source": [
    "# Preprocess text data in training set and validation set\n",
    "x_train_cleaned = []\n",
    "x_test_cleaned = []\n",
    "\n",
    "for d in x_train:\n",
    "    x_train_cleaned.append(cleanText(d))\n",
    "\n",
    "for d in x_test:\n",
    "    x_test_cleaned.append(cleanText(d)) "
   ]
  },
  {
   "cell_type": "code",
   "execution_count": 27,
   "metadata": {},
   "outputs": [
    {
     "name": "stdout",
     "output_type": "stream",
     "text": [
      "Number of features : 1890 \n",
      "\n",
      "Show some feature names : \n",
      " ['00', 'mediocre']\n"
     ]
    }
   ],
   "source": [
    "tfidf = TfidfVectorizer(min_df=5) #minimum document frequency of 5\n",
    "x_train_tfidf = tfidf.fit_transform(x_train)\n",
    "print (\"Number of features : %d \\n\" %len(tfidf.get_feature_names())) #1722\n",
    "print (\"Show some feature names : \\n\", tfidf.get_feature_names()[::1000])\n",
    " "
   ]
  },
  {
   "cell_type": "code",
   "execution_count": 28,
   "metadata": {},
   "outputs": [],
   "source": [
    " x_train_input = tfidf.transform(x_train_cleaned)"
   ]
  },
  {
   "cell_type": "code",
   "execution_count": 29,
   "metadata": {},
   "outputs": [],
   "source": [
    "rand = RandomForestClassifier()\n",
    "rand.fit(x_train_input, y_train)\n",
    "y_rand_predicted = rand.predict(tfidf.transform(x_test_cleaned))"
   ]
  },
  {
   "cell_type": "code",
   "execution_count": 30,
   "metadata": {},
   "outputs": [
    {
     "name": "stdout",
     "output_type": "stream",
     "text": [
      "\n",
      "Accuracy on validation set: 0.8881\n",
      "\n",
      "Classification report : \n",
      "               precision    recall  f1-score   support\n",
      "\n",
      "          -4       0.89      0.82      0.85       594\n",
      "          -1       0.91      0.84      0.87       473\n",
      "           1       0.91      0.96      0.93      3147\n",
      "           2       0.88      0.75      0.81       930\n",
      "           3       0.84      0.85      0.84       962\n",
      "           4       0.85      0.92      0.89       534\n",
      "\n",
      "    accuracy                           0.89      6640\n",
      "   macro avg       0.88      0.85      0.87      6640\n",
      "weighted avg       0.89      0.89      0.89      6640\n",
      "\n",
      "\n",
      "Confusion Matrix : \n",
      " [[ 485   18   77    9    5    0]\n",
      " [   9  395   58    1    8    2]\n",
      " [  43   12 3011   38   33   10]\n",
      " [   8    3  105  698   91   25]\n",
      " [   0    4   50   44  816   48]\n",
      " [   0    1   13    6   22  492]]\n"
     ]
    }
   ],
   "source": [
    "modelEvaluation(y_rand_predicted, y_test)"
   ]
  },
  {
   "cell_type": "code",
   "execution_count": 34,
   "metadata": {},
   "outputs": [
    {
     "name": "stdout",
     "output_type": "stream",
     "text": [
      "Accuracy of Random Forest = 0.8881024096385542\n"
     ]
    }
   ],
   "source": [
    "print (\"Accuracy of Random Forest = \" + str(rand.score(tfidf.transform(x_test_cleaned), y_test)))\n"
   ]
  },
  {
   "cell_type": "code",
   "execution_count": 32,
   "metadata": {},
   "outputs": [
    {
     "name": "stdout",
     "output_type": "stream",
     "text": [
      "[-1]\n"
     ]
    }
   ],
   "source": [
    "print(rand.predict(tfidf.transform([\n",
    "    \"It was bad\"\n",
    "])))"
   ]
  },
  {
   "cell_type": "code",
   "execution_count": null,
   "metadata": {},
   "outputs": [],
   "source": []
  }
 ],
 "metadata": {
  "kernelspec": {
   "display_name": "Python 3",
   "language": "python",
   "name": "python3"
  },
  "language_info": {
   "codemirror_mode": {
    "name": "ipython",
    "version": 3
   },
   "file_extension": ".py",
   "mimetype": "text/x-python",
   "name": "python",
   "nbconvert_exporter": "python",
   "pygments_lexer": "ipython3",
   "version": "3.7.6"
  }
 },
 "nbformat": 4,
 "nbformat_minor": 4
}
